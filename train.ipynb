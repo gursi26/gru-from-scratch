{
  "cells": [
    {
      "cell_type": "code",
      "execution_count": null,
      "metadata": {
        "id": "iMS6tyz95t8k"
      },
      "outputs": [],
      "source": [
        "import torch\n",
        "from torch import nn, optim\n",
        "from tqdm import tqdm\n",
        "from torch.utils.data import DataLoader\n",
        "from dataset import SequenceDataset\n",
        "from model import MultiLayerGRU\n",
        "from utils import sample"
      ]
    },
    {
      "cell_type": "code",
      "execution_count": null,
      "metadata": {
        "id": "e1qT3-B_5t8o"
      },
      "outputs": [],
      "source": [
        "SEQ_LENGTH = 100\n",
        "HIDDEN_SIZE = 512\n",
        "NUM_LAYERS = 3\n",
        "DROPOUT = 0.5\n",
        "\n",
        "LR = 0.001\n",
        "BATCH_SIZE = 128\n",
        "EPOCHS = 1000\n",
        "DEV = torch.device(\"cuda\")"
      ]
    },
    {
      "cell_type": "code",
      "execution_count": null,
      "metadata": {
        "colab": {
          "base_uri": "https://localhost:8080/"
        },
        "id": "qPLhxWoQ5t8p",
        "outputId": "76dc9727-fb01-4aba-cb88-f5c97acf3691"
      },
      "outputs": [],
      "source": [
        "dataset = SequenceDataset(\"shakespeare-sonnet.txt\", seq_length=SEQ_LENGTH)\n",
        "loader = DataLoader(dataset, batch_size=BATCH_SIZE, shuffle=True)\n",
        "model = MultiLayerGRU(len(dataset.vocab), HIDDEN_SIZE, NUM_LAYERS, DROPOUT).to(DEV)\n",
        "opt = optim.Adam(model.parameters(), lr = LR)\n",
        "crit = nn.CrossEntropyLoss()"
      ]
    },
    {
      "cell_type": "code",
      "execution_count": null,
      "metadata": {
        "colab": {
          "base_uri": "https://localhost:8080/"
        },
        "id": "Y2T7KUoC5t8q",
        "outputId": "3d496293-a593-4617-9a9a-5c2f1020b0ce"
      },
      "outputs": [],
      "source": [
        "for e in range(1, EPOCHS + 1):\n",
        "    loop = tqdm(loader, total=len(loader), leave=True, position=0)\n",
        "    loop.set_description(f\"Epoch : [{e}/{EPOCHS}] | \")\n",
        "    total_loss = 0\n",
        "    total_len = 0\n",
        "    for x, y in loop:\n",
        "        opt.zero_grad()\n",
        "        h = torch.zeros((NUM_LAYERS, x.shape[0], HIDDEN_SIZE)).to(DEV)\n",
        "        yhat, h = model.forward(x.to(DEV), h)\n",
        "        loss = crit(yhat.view(-1, yhat.shape[-1]), y.view(-1, y.shape[-1]).to(DEV))\n",
        "        loss.backward()\n",
        "        nn.utils.clip_grad_norm_(model.parameters(), 5)\n",
        "        opt.step()\n",
        "\n",
        "        total_loss += loss.item()\n",
        "        total_len += 1\n",
        "        loop.set_postfix(average_loss = total_loss / total_len)\n",
        "\n",
        "    if e % 10 == 0:\n",
        "        model = model.eval()\n",
        "        with torch.no_grad():\n",
        "            print(f\"\\n{'=' * 50}\\nSample output: \\n{sample(model, dataset, 'thou', HIDDEN_SIZE, 400, DEV, NUM_LAYERS)}\\n{'=' * 50}\\n\")"
      ]
    },
    {
      "cell_type": "code",
      "execution_count": null,
      "metadata": {
        "id": "4qV7ntUaXJem"
      },
      "outputs": [],
      "source": [
        "torch.save(model.state_dict(), \"gru-weights-final.pth\")"
      ]
    }
  ],
  "metadata": {
    "accelerator": "GPU",
    "colab": {
      "gpuType": "T4",
      "provenance": []
    },
    "kernelspec": {
      "display_name": "Python 3",
      "name": "python3"
    },
    "language_info": {
      "codemirror_mode": {
        "name": "ipython",
        "version": 3
      },
      "file_extension": ".py",
      "mimetype": "text/x-python",
      "name": "python",
      "nbconvert_exporter": "python",
      "pygments_lexer": "ipython3",
      "version": "3.9.13"
    },
    "orig_nbformat": 4
  },
  "nbformat": 4,
  "nbformat_minor": 0
}
