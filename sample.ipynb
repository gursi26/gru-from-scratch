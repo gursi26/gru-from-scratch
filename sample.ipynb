{
 "cells": [
  {
   "cell_type": "code",
   "execution_count": 2,
   "metadata": {},
   "outputs": [],
   "source": [
    "from gru import MultiLayerGRU\n",
    "from dataset import SequenceDataset\n",
    "from utils import sample\n",
    "import torch"
   ]
  },
  {
   "cell_type": "code",
   "execution_count": 4,
   "metadata": {},
   "outputs": [
    {
     "name": "stderr",
     "output_type": "stream",
     "text": [
      "100%|██████████| 94081/94081 [00:00<00:00, 279721.75it/s]\n"
     ]
    },
    {
     "data": {
      "text/plain": [
       "<All keys matched successfully>"
      ]
     },
     "execution_count": 4,
     "metadata": {},
     "output_type": "execute_result"
    }
   ],
   "source": [
    "dev = torch.device(\"mps\")\n",
    "dataset = SequenceDataset(\"shakespeare-sonnet.txt\", seq_length=100)\n",
    "model = MultiLayerGRU(len(dataset.vocab), 512, 3, 0.5).to(dev).eval()\n",
    "model.load_state_dict(torch.load(\"gru-weights-final.pth\", map_location=dev))"
   ]
  },
  {
   "cell_type": "code",
   "execution_count": 7,
   "metadata": {},
   "outputs": [
    {
     "name": "stdout",
     "output_type": "stream",
     "text": [
      "thou looks like a shadow that my heart be forgekent,\n",
      "as fast as thou shalt wane, so fast thou grow'st\n",
      "it some some beauty of thy due,'s decress.\n",
      "their shadows be not some in their joyt doth lie,\n",
      "as the death cross that i will bitter think,\n",
      "nor double penance, to correct correction.\n",
      "pity me then, dear friend, and look so thee,\n",
      "and death once painting every book.\n",
      "thou art as fair in knowledge as in hue,\n",
      "finding thy worth a limit past my praise,\n",
      "kaiging thy pace some with criris trees i  eak,\n",
      "when dott your sigh the star the mend of sore, and drsine,\n",
      "thou ust the spring that summer is by atayn,\n",
      "and make me travel forth without my cloak,\n",
      "to let the basest words thou mistress overswrarged;\n",
      "which boing esseesw in thee art suffer need,\n",
      "i see, be night are you should love sawe,\n",
      "from that us the stor my but time demaye,\n",
      "for thou art covetous, and he is kind;\n",
      "he learned but surmeck of youth doth cue,\n",
      "\n",
      "stite to the stmen that touches me most dear full aspeet\n",
      "a vangan hate as thou art coull some,\n",
      "when i ab sonsines of a f\n"
     ]
    }
   ],
   "source": [
    "print(sample(model, dataset, \"thou looks like a shadow\", 512, 1000, dev, 3))"
   ]
  },
  {
   "cell_type": "code",
   "execution_count": 9,
   "metadata": {},
   "outputs": [
    {
     "name": "stdout",
     "output_type": "stream",
     "text": [
      "love, but truly write,\n",
      "and then believe me, my love is as fair\n",
      "as any mother's child, though not so bressed every\n",
      "but ay the barner more do sing:\n",
      "when steal shame was not caunte doth all above,\n",
      "that in by vies, and mine own desert'st,\n",
      "thou thy breast doth tive sand in a eyes were dhing in disgrace.\n",
      "therefore my mistress' eyes are raven black,\n",
      "her eyes so suited, and they mourners seem still,\n",
      "and in my wrong, that hates whose dear love or near.\n",
      "\n",
      "like of the lives more than this his rone:\n",
      "not tasce i soul is my heart's gainsato, would, a goed be tonte\n",
      "of brood for my sake even so doth she abuse me,\n",
      "suffered the best if thou shouldst depart,\n",
      "leaving thee living in posterity?\n",
      "be not self-will besiles and will on thee,\n",
      "which from love's fire took heat perpeted\n",
      "than be misted tame that i on my state,\n",
      "like to the lark at break of day arising,\n",
      "that dib your sudst yet the sweet sembling of thee;\n",
      "in it for for the live of your feartribn skine,\n",
      "with wills count bat which so dull cannot croose\n",
      "but weep\n"
     ]
    }
   ],
   "source": [
    "print(sample(model, dataset, \"love\", 512, 1000, dev, 3))"
   ]
  }
 ],
 "metadata": {
  "kernelspec": {
   "display_name": "ml",
   "language": "python",
   "name": "python3"
  },
  "language_info": {
   "codemirror_mode": {
    "name": "ipython",
    "version": 3
   },
   "file_extension": ".py",
   "mimetype": "text/x-python",
   "name": "python",
   "nbconvert_exporter": "python",
   "pygments_lexer": "ipython3",
   "version": "3.9.13"
  },
  "orig_nbformat": 4
 },
 "nbformat": 4,
 "nbformat_minor": 2
}
